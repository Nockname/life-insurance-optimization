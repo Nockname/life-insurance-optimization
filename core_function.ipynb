{
 "cells": [
  {
   "cell_type": "markdown",
   "id": "4cba20e0",
   "metadata": {},
   "source": [
    "## Gradient Descent for Life Insurance Premiums"
   ]
  },
  {
   "cell_type": "code",
   "execution_count": 3,
   "id": "d2743f9f",
   "metadata": {},
   "outputs": [],
   "source": [
    "import numpy as np\n",
    "import torch\n",
    "import matplotlib.pyplot as plt"
   ]
  },
  {
   "cell_type": "markdown",
   "id": "ce03e3e1",
   "metadata": {},
   "source": [
    "### Constants"
   ]
  },
  {
   "cell_type": "code",
   "execution_count": 4,
   "id": "46f76c87",
   "metadata": {},
   "outputs": [],
   "source": [
    "YEARS = 20\n",
    "\n",
    "# discount rate\n",
    "DISCOUNT = torch.full((YEARS,), 0.05)\n",
    "\n",
    "# policy values\n",
    "INITIAL_BALANCE = 209000.0 \n",
    "DEATH_BENEFIT = 1000000.0\n",
    "COI = torch.tensor([\n",
    "    25.3835,\n",
    "    28.7676,\n",
    "    32.2841,\n",
    "    36.1080,\n",
    "    40.0561,\n",
    "    44.9284,\n",
    "    49.7497,\n",
    "    56.7585,\n",
    "    65.8140,\n",
    "    75.9054,\n",
    "    86.8502,\n",
    "    98.5907,\n",
    "    110.7127,\n",
    "    123.0529,\n",
    "    134.7429,\n",
    "    155.6109,\n",
    "    175.6953,\n",
    "    198.0022,\n",
    "    222.6517,\n",
    "    249.7688\n",
    "])\n",
    "INTEREST_RATE = torch.full((YEARS,), 0.0564)\n",
    "\n",
    "# mortality statistics\n",
    "BASE_MORTALITY = torch.tensor([0.004056, 0.006672, 0.011776, 0.017520, 0.022664, 0.028984, 0.037968, 0.049360, 0.064032, 0.083352, 0.108296, 0.127832, 0.140240, 0.152200, 0.163152, 0.174760, 0.188432, 0.203136, 0.218912, 0.235448])\n",
    "ANNUAL_IMPROVEMENT_FACTOR = torch.full((YEARS,), 0.01)\n",
    "SHOCK_FACTOR = torch.zeros((YEARS,))\n",
    "\n"
   ]
  },
  {
   "cell_type": "markdown",
   "id": "9490ebe6",
   "metadata": {},
   "source": [
    "### Input"
   ]
  },
  {
   "cell_type": "code",
   "execution_count": 46,
   "id": "413dc83b",
   "metadata": {},
   "outputs": [
    {
     "data": {
      "text/plain": [
       "tensor([20000., 20000., 20000., 20000., 20000., 20000., 20000., 20000., 20000.,\n",
       "        20000., 20000., 20000., 20000., 20000., 20000., 20000., 20000., 20000.,\n",
       "        20000., 20000.], requires_grad=True)"
      ]
     },
     "execution_count": 46,
     "metadata": {},
     "output_type": "execute_result"
    }
   ],
   "source": [
    "premiums = torch.full((20,), 20000.0)\n",
    "# premiums = torch.full((20,), 35000.0)\n",
    "\n",
    "premiums.requires_grad_()"
   ]
  },
  {
   "cell_type": "markdown",
   "id": "548aaa6d",
   "metadata": {},
   "source": [
    "### Compute Policy Premiums\n",
    "\n",
    "Find ending balance and effect on death rate, given premiums schedule."
   ]
  },
  {
   "cell_type": "code",
   "execution_count": 6,
   "id": "d969fcbd",
   "metadata": {},
   "outputs": [
    {
     "name": "stdout",
     "output_type": "stream",
     "text": [
      "tensor([  209000.0000,   199414.3594,   186168.4531,   168749.1250,\n",
      "          146394.7656,   118366.0938,    83031.9375,    39356.8086,\n",
      "          -16190.7793,   -87924.4219,  -180290.6875,  -298921.2812,\n",
      "         -451238.7812,  -646597.0625,  -897289.3750, -1218141.1250,\n",
      "        -1651661.8750, -2237162.5000, -3040644.2500, -4162727.5000,\n",
      "        -5759919.0000], grad_fn=<CopySlices>)\n"
     ]
    }
   ],
   "source": [
    "def calculate_balance(premiums):\n",
    "    balance_boy = torch.zeros((YEARS + 1,))\n",
    "    balance_boy[0] = INITIAL_BALANCE\n",
    "    PERCENT_PREMIUM_CHARGE = torch.full((YEARS,), 0.02)\n",
    "    POLICY_FEE = torch.full((YEARS,), 150.0)\n",
    "    for i in range(YEARS):\n",
    "        premium_charge = -premiums[i] * PERCENT_PREMIUM_CHARGE[i]\n",
    "        net_at_risk = DEATH_BENEFIT - premiums[i] - balance_boy[i] - premium_charge + POLICY_FEE[i]\n",
    "        cost_of_insurance = - COI[i] * net_at_risk / 1000\n",
    "        partial_sum = balance_boy[i] + premiums[i] + premium_charge - POLICY_FEE[i] + cost_of_insurance\n",
    "        balance_boy[i+1] = (partial_sum) * (1 + INTEREST_RATE[i])\n",
    "        \n",
    "    return balance_boy\n",
    "        \n",
    "print(calculate_balance(premiums))\n",
    "    "
   ]
  },
  {
   "cell_type": "markdown",
   "id": "504a2774",
   "metadata": {},
   "source": [
    "### Compute Expected Present Value"
   ]
  },
  {
   "cell_type": "code",
   "execution_count": 7,
   "id": "76fb43cb",
   "metadata": {},
   "outputs": [
    {
     "name": "stdout",
     "output_type": "stream",
     "text": [
      "(tensor([1.0000, 0.9524, 0.9070, 0.8638, 0.8227, 0.7835, 0.7462, 0.7107, 0.6768,\n",
      "        0.6446, 0.6139, 0.5847, 0.5568, 0.5303, 0.5051, 0.4810, 0.4581, 0.4363,\n",
      "        0.4155, 0.3957, 0.3769]), tensor([0.9524, 0.9070, 0.8638, 0.8227, 0.7835, 0.7462, 0.7107, 0.6768, 0.6446,\n",
      "        0.6139, 0.5847, 0.5568, 0.5303, 0.5051, 0.4810, 0.4581, 0.4363, 0.4155,\n",
      "        0.3957, 0.3769]))\n"
     ]
    }
   ],
   "source": [
    "# get boy and eoy discount factors\n",
    "def discount_factors():\n",
    "    \n",
    "    discount_boy = torch.empty((YEARS+1,))\n",
    "    discount_boy[0] = 1\n",
    "    for i in range(1, YEARS + 1):\n",
    "        discount_boy[i] = discount_boy[i-1] / (1 + DISCOUNT[i-1])\n",
    "        \n",
    "    return discount_boy, discount_boy[1:]\n",
    "\n",
    "print(discount_factors())"
   ]
  },
  {
   "cell_type": "code",
   "execution_count": 8,
   "id": "3c17cd8a",
   "metadata": {},
   "outputs": [
    {
     "name": "stdout",
     "output_type": "stream",
     "text": [
      "[tensor(4000.0081), tensor(6500.0059), tensor(11299.9678), tensor(16499.9961), tensor(20700.0371), tensor(25699.9727), tensor(32400.0117), tensor(40199.9961), tensor(49300.0156), tensor(59799.9688), tensor(71100.), tensor(75100.0078), tensor(72300.0156), tensor(68100.0078), tensor(62700.0039), tensor(57199.9844), tensor(52000.0156), tensor(46600.), tensor(41300.), tensor(187200.)]\n",
      "[tensor(4015.4402), tensor(6578.7568), tensor(11534.7305), tensor(16960.9766), tensor(21560.2852), tensor(26953.8535), tensor(34295.4297), tensor(42909.6055), tensor(52944.1523), tensor(64549.8125), tensor(76946.4688), tensor(81089.3203), tensor(77702.0078), tensor(72620.6250), tensor(66116.5391), tensor(59381.6484), tensor(52949.7383), tensor(46433.1523), tensor(39976.1328), tensor(144481.2188)]\n"
     ]
    }
   ],
   "source": [
    "# get probability of boy survival and eoy death \n",
    "def actuarial_factors():\n",
    "    cumulative_improvement_factor = 1 - ANNUAL_IMPROVEMENT_FACTOR\n",
    "    adj_rate_one = BASE_MORTALITY * cumulative_improvement_factor\n",
    "    adj_rate_two = adj_rate_one * (1 + SHOCK_FACTOR)\n",
    "\n",
    "    survivors_boy = torch.zeros((YEARS + 1,))\n",
    "    deaths_eoy = torch.zeros((YEARS,))\n",
    "    survivors_boy[0] = 1.0  # Start with 100% at BOY\n",
    "\n",
    "    # iteratively find death and survival rates based on previous year results\n",
    "    for i in range(YEARS):\n",
    "        deaths_eoy[i] = survivors_boy[i] * adj_rate_two[i]\n",
    "        survivors_boy[i + 1] = survivors_boy[i] - deaths_eoy[i]\n",
    "\n",
    "    # we assume all remaining living people die on the last year / collect on the policy\n",
    "    deaths_eoy[YEARS - 1] = survivors_boy[YEARS - 1]\n",
    "    return survivors_boy[:-1], deaths_eoy\n",
    "\n",
    "# inaccurate way that Excel calculates, with too low precision\n",
    "def excel_actuarial_factors():\n",
    "    MORTALITY = torch.tensor([1.0000, 0.9960, 0.9895, 0.9782, 0.9617, 0.9410, 0.9153, 0.8829, 0.8427, 0.7934, 0.7336, 0.6625, 0.5874, 0.5151, 0.4470, 0.3843, 0.3271, 0.2751, 0.2285, 0.1872, 0.0])\n",
    "    survival_boy = MORTALITY[:-1]\n",
    "    death_eoy = MORTALITY[:-1] - MORTALITY[1:]\n",
    "    return survival_boy, death_eoy\n",
    "\n",
    "print([i*1000000 for i in excel_actuarial_factors()[1]])\n",
    "print([i*1000000 for i in actuarial_factors()[1]])"
   ]
  },
  {
   "cell_type": "code",
   "execution_count": 76,
   "id": "056b8618",
   "metadata": {},
   "outputs": [
    {
     "name": "stdout",
     "output_type": "stream",
     "text": [
      "110908.765625\n",
      "13\n"
     ]
    }
   ],
   "source": [
    "def positive_balance_years(premiums):\n",
    "\n",
    "    balance_eoy = calculate_balance(torch.nn.ReLU()(premiums))[1:]\n",
    "    negative_balance_years = torch.where(balance_eoy < 0)[0]\n",
    "    \n",
    "    if len(negative_balance_years) > 0:\n",
    "        return negative_balance_years[0].item()\n",
    "    \n",
    "    return YEARS\n",
    "\n",
    "# find net expected present value of insurance policy\n",
    "# use_excel_rounding rounds the actuarial factors to 4 sig figs after each calculation. set True to test against Excel spreadsheet, keep False for higher accuracy\n",
    "def calculate_expected_present_value(premiums, use_excel_rounding = False, change_death_benefit = False, print_output = False):\n",
    "    \n",
    "    death_benefit = torch.full((YEARS,), DEATH_BENEFIT)\n",
    "        \n",
    "    # set death benefit to 0 if the policy has ever been in a negative balance\n",
    "    if change_death_benefit:\n",
    "        death_benefit[positive_balance_years(premiums):] = 0\n",
    "    \n",
    "    discount_boy, discount_eoy = discount_factors()\n",
    "    survival_boy, death_eoy = excel_actuarial_factors() if use_excel_rounding else actuarial_factors()\n",
    "    \n",
    "    premium_cash_flow_boy = premiums * survival_boy\n",
    "    death_benefit_cash_flow_eoy = death_benefit * death_eoy\n",
    "    \n",
    "    if print_output:\n",
    "        print(\"Premium Cash Flow (BOY):\")\n",
    "        for idx, val in enumerate(premium_cash_flow_boy):\n",
    "            print(f\"  Year {idx+1:2d}: {val:12,.2f}\")\n",
    "        print(\"Death Benefit Cash Flow (EOY):\")\n",
    "        for idx, val in enumerate(death_benefit_cash_flow_eoy):\n",
    "            print(f\"  Year {idx+1:2d}: {val:12,.2f}\")\n",
    "        \n",
    "    # compute net cash flow via offsetting death_benefit_cash_flow_eoy and premium_cash_flow_boy\n",
    "    net_cash_flow_boy = (\n",
    "        torch.cat((torch.tensor([0.0]), death_benefit_cash_flow_eoy)) - \n",
    "        torch.cat((premium_cash_flow_boy, torch.tensor([0.0]))))\n",
    "    \n",
    "    return torch.sum(discount_boy * net_cash_flow_boy)\n",
    "\n",
    "print(calculate_expected_present_value(premiums, use_excel_rounding=True, change_death_benefit=True).item())\n",
    "print(positive_balance_years(premiums))"
   ]
  },
  {
   "cell_type": "markdown",
   "id": "0238603d",
   "metadata": {},
   "source": [
    "### Loss Function"
   ]
  },
  {
   "cell_type": "code",
   "execution_count": 59,
   "id": "93b6d654",
   "metadata": {},
   "outputs": [
    {
     "name": "stdout",
     "output_type": "stream",
     "text": [
      "Expiration Loss:        2199576.2500\n",
      "Piecewise Loss:         2334602.5000\n",
      "Smooth Loss:            1991222.0000\n"
     ]
    }
   ],
   "source": [
    "def piecewise_loss(premiums):\n",
    "\n",
    "    balance_boy = calculate_balance(premiums)\n",
    "    expected_present_value = calculate_expected_present_value(premiums) \n",
    "    \n",
    "    if balance_boy[-1] < -1:\n",
    "        return -balance_boy[-1]\n",
    "    \n",
    "    return -expected_present_value\n",
    "\n",
    "# loss is expected present value (where policy expires if ever in negative balance) + negative balance at the end of the policy\n",
    "def expiration_loss(premiums):\n",
    "    \n",
    "    balance_boy = calculate_balance(premiums)\n",
    "    expected_present_value = calculate_expected_present_value(premiums, change_death_benefit=True) \n",
    "    return -(expected_present_value + torch.min(balance_boy[-1], torch.tensor(0.0)))\n",
    "\n",
    "# loss is expected present value of policy (through completion of the policy) + (weighted) negative balance at the end of the policy\n",
    "def smooth_loss(premiums, balance_activation_function=torch.nn.ReLU()):\n",
    "\n",
    "    balance_boy = calculate_balance(torch.nn.ReLU()(premiums))\n",
    "    expected_present_value = calculate_expected_present_value(torch.nn.ReLU()(premiums)) \n",
    "\n",
    "    return -expected_present_value + balance_activation_function(-balance_boy[-1])\n",
    "\n",
    "print(f\"{'Expiration Loss:':20s} {round(expiration_loss(premiums).item(), 4):15.4f}\")\n",
    "print(f\"{'Piecewise Loss:':20s} {round(piecewise_loss(premiums).item(), 4):15.4f}\")\n",
    "print(f\"{'Smooth Loss:':20s} {round(smooth_loss(premiums).item(), 4):15.4f}\")"
   ]
  },
  {
   "cell_type": "markdown",
   "id": "f9d2dcf0",
   "metadata": {},
   "source": [
    "### Gradient Descent"
   ]
  },
  {
   "cell_type": "code",
   "execution_count": 82,
   "id": "9badd9b1",
   "metadata": {},
   "outputs": [
    {
     "name": "stdout",
     "output_type": "stream",
     "text": [
      "Iteration      0: Loss = -225976.0625, Positive Balance Years =  20, Premiums = [  64323.35,   69507.91,   26698.43,   20353.28,   21073.45,   29640.84,   15128.02,   29624.19,    3547.79,   10796.93,       0.00,   10393.28,    3670.41,   23877.62,   43400.56,   68102.01,   88678.91,  104794.06,   83180.37,   99039.80]\n",
      "Progress: [--------------------------------------------------] 0.17%"
     ]
    },
    {
     "ename": "KeyboardInterrupt",
     "evalue": "",
     "output_type": "error",
     "traceback": [
      "\u001b[31m---------------------------------------------------------------------------\u001b[39m",
      "\u001b[31mKeyboardInterrupt\u001b[39m                         Traceback (most recent call last)",
      "\u001b[36mCell\u001b[39m\u001b[36m \u001b[39m\u001b[32mIn[82]\u001b[39m\u001b[32m, line 17\u001b[39m\n\u001b[32m     14\u001b[39m loss_value = smooth_loss(premiums_input, balance_activation_function=torch.nn.ELU(\u001b[32m5.0\u001b[39m))\n\u001b[32m     15\u001b[39m losses.append((loss_value.item(), positive_balance_years(premiums_input)))\n\u001b[32m---> \u001b[39m\u001b[32m17\u001b[39m \u001b[43mloss_value\u001b[49m\u001b[43m.\u001b[49m\u001b[43mbackward\u001b[49m\u001b[43m(\u001b[49m\u001b[43m)\u001b[49m\n\u001b[32m     18\u001b[39m optimizer.step()\n\u001b[32m     19\u001b[39m progress = \u001b[38;5;28mint\u001b[39m(\u001b[32m50\u001b[39m * (i + \u001b[32m1\u001b[39m) / n_iters)\n",
      "\u001b[36mFile \u001b[39m\u001b[32m~/Documents/GitHub Projects/Princeternship Insurance/venv/lib/python3.13/site-packages/torch/_tensor.py:648\u001b[39m, in \u001b[36mTensor.backward\u001b[39m\u001b[34m(self, gradient, retain_graph, create_graph, inputs)\u001b[39m\n\u001b[32m    638\u001b[39m \u001b[38;5;28;01mif\u001b[39;00m has_torch_function_unary(\u001b[38;5;28mself\u001b[39m):\n\u001b[32m    639\u001b[39m     \u001b[38;5;28;01mreturn\u001b[39;00m handle_torch_function(\n\u001b[32m    640\u001b[39m         Tensor.backward,\n\u001b[32m    641\u001b[39m         (\u001b[38;5;28mself\u001b[39m,),\n\u001b[32m   (...)\u001b[39m\u001b[32m    646\u001b[39m         inputs=inputs,\n\u001b[32m    647\u001b[39m     )\n\u001b[32m--> \u001b[39m\u001b[32m648\u001b[39m \u001b[43mtorch\u001b[49m\u001b[43m.\u001b[49m\u001b[43mautograd\u001b[49m\u001b[43m.\u001b[49m\u001b[43mbackward\u001b[49m\u001b[43m(\u001b[49m\n\u001b[32m    649\u001b[39m \u001b[43m    \u001b[49m\u001b[38;5;28;43mself\u001b[39;49m\u001b[43m,\u001b[49m\u001b[43m \u001b[49m\u001b[43mgradient\u001b[49m\u001b[43m,\u001b[49m\u001b[43m \u001b[49m\u001b[43mretain_graph\u001b[49m\u001b[43m,\u001b[49m\u001b[43m \u001b[49m\u001b[43mcreate_graph\u001b[49m\u001b[43m,\u001b[49m\u001b[43m \u001b[49m\u001b[43minputs\u001b[49m\u001b[43m=\u001b[49m\u001b[43minputs\u001b[49m\n\u001b[32m    650\u001b[39m \u001b[43m\u001b[49m\u001b[43m)\u001b[49m\n",
      "\u001b[36mFile \u001b[39m\u001b[32m~/Documents/GitHub Projects/Princeternship Insurance/venv/lib/python3.13/site-packages/torch/autograd/__init__.py:353\u001b[39m, in \u001b[36mbackward\u001b[39m\u001b[34m(tensors, grad_tensors, retain_graph, create_graph, grad_variables, inputs)\u001b[39m\n\u001b[32m    348\u001b[39m     retain_graph = create_graph\n\u001b[32m    350\u001b[39m \u001b[38;5;66;03m# The reason we repeat the same comment below is that\u001b[39;00m\n\u001b[32m    351\u001b[39m \u001b[38;5;66;03m# some Python versions print out the first line of a multi-line function\u001b[39;00m\n\u001b[32m    352\u001b[39m \u001b[38;5;66;03m# calls in the traceback and some print out the last line\u001b[39;00m\n\u001b[32m--> \u001b[39m\u001b[32m353\u001b[39m \u001b[43m_engine_run_backward\u001b[49m\u001b[43m(\u001b[49m\n\u001b[32m    354\u001b[39m \u001b[43m    \u001b[49m\u001b[43mtensors\u001b[49m\u001b[43m,\u001b[49m\n\u001b[32m    355\u001b[39m \u001b[43m    \u001b[49m\u001b[43mgrad_tensors_\u001b[49m\u001b[43m,\u001b[49m\n\u001b[32m    356\u001b[39m \u001b[43m    \u001b[49m\u001b[43mretain_graph\u001b[49m\u001b[43m,\u001b[49m\n\u001b[32m    357\u001b[39m \u001b[43m    \u001b[49m\u001b[43mcreate_graph\u001b[49m\u001b[43m,\u001b[49m\n\u001b[32m    358\u001b[39m \u001b[43m    \u001b[49m\u001b[43minputs\u001b[49m\u001b[43m,\u001b[49m\n\u001b[32m    359\u001b[39m \u001b[43m    \u001b[49m\u001b[43mallow_unreachable\u001b[49m\u001b[43m=\u001b[49m\u001b[38;5;28;43;01mTrue\u001b[39;49;00m\u001b[43m,\u001b[49m\n\u001b[32m    360\u001b[39m \u001b[43m    \u001b[49m\u001b[43maccumulate_grad\u001b[49m\u001b[43m=\u001b[49m\u001b[38;5;28;43;01mTrue\u001b[39;49;00m\u001b[43m,\u001b[49m\n\u001b[32m    361\u001b[39m \u001b[43m\u001b[49m\u001b[43m)\u001b[49m\n",
      "\u001b[36mFile \u001b[39m\u001b[32m~/Documents/GitHub Projects/Princeternship Insurance/venv/lib/python3.13/site-packages/torch/autograd/graph.py:824\u001b[39m, in \u001b[36m_engine_run_backward\u001b[39m\u001b[34m(t_outputs, *args, **kwargs)\u001b[39m\n\u001b[32m    822\u001b[39m     unregister_hooks = _register_logging_hooks_on_whole_graph(t_outputs)\n\u001b[32m    823\u001b[39m \u001b[38;5;28;01mtry\u001b[39;00m:\n\u001b[32m--> \u001b[39m\u001b[32m824\u001b[39m     \u001b[38;5;28;01mreturn\u001b[39;00m \u001b[43mVariable\u001b[49m\u001b[43m.\u001b[49m\u001b[43m_execution_engine\u001b[49m\u001b[43m.\u001b[49m\u001b[43mrun_backward\u001b[49m\u001b[43m(\u001b[49m\u001b[43m  \u001b[49m\u001b[38;5;66;43;03m# Calls into the C++ engine to run the backward pass\u001b[39;49;00m\n\u001b[32m    825\u001b[39m \u001b[43m        \u001b[49m\u001b[43mt_outputs\u001b[49m\u001b[43m,\u001b[49m\u001b[43m \u001b[49m\u001b[43m*\u001b[49m\u001b[43margs\u001b[49m\u001b[43m,\u001b[49m\u001b[43m \u001b[49m\u001b[43m*\u001b[49m\u001b[43m*\u001b[49m\u001b[43mkwargs\u001b[49m\n\u001b[32m    826\u001b[39m \u001b[43m    \u001b[49m\u001b[43m)\u001b[49m  \u001b[38;5;66;03m# Calls into the C++ engine to run the backward pass\u001b[39;00m\n\u001b[32m    827\u001b[39m \u001b[38;5;28;01mfinally\u001b[39;00m:\n\u001b[32m    828\u001b[39m     \u001b[38;5;28;01mif\u001b[39;00m attach_logging_hooks:\n",
      "\u001b[31mKeyboardInterrupt\u001b[39m: "
     ]
    }
   ],
   "source": [
    "\n",
    "\n",
    "\n",
    "# Set the random seed for reproducibility\n",
    "torch.manual_seed(0)\n",
    "\n",
    "premiums_input = torch.rand((20,)) * 50000.0\n",
    "premiums_input = torch.tensor([  64325.35,   69509.91,   26700.43,   20355.28,   21075.45,   29642.84,   15130.02,   29626.19,    3549.79,   10798.93,    0,   10395.28,    3672.41,   23879.62,   43402.56,   68104.01,   88680.91,  104796.06,   83182.37,   99041.80])\n",
    "\n",
    "premiums_input.requires_grad_()\n",
    "\n",
    "optimizer = torch.optim.Adam([premiums_input], lr=2)\n",
    "n_iters = 500000\n",
    "losses = []\n",
    "for i in range(n_iters):\n",
    "    optimizer.zero_grad()\n",
    "    loss_value = smooth_loss(premiums_input, balance_activation_function=torch.nn.ELU(5.0))\n",
    "    losses.append((loss_value.item(), positive_balance_years(premiums_input)))\n",
    "\n",
    "    loss_value.backward()\n",
    "    optimizer.step()\n",
    "    progress = int(50 * (i + 1) / n_iters)\n",
    "    bar = '[' + '#' * progress + '-' * (50 - progress) + ']'\n",
    "    print(f\"\\rProgress: {bar} {100 * (i + 1) / n_iters:.2f}%\", end='', flush=True)\n",
    "    if i % (n_iters / 100) == 0:\n",
    "        rounded_loss = round(loss_value.item(), 4)\n",
    "        pos_years = positive_balance_years(premiums_input)\n",
    "        rounded_premiums = [round(float(p), 2) for p in premiums_input.tolist()]\n",
    "        # Format: Loss (12 chars, right), Years (3 chars, right), Premiums (each 10 chars, right)\n",
    "        premiums_str = \"[\" + \", \".join(f\"{p:10.2f}\" for p in rounded_premiums) + \"]\"\n",
    "        print(f\"\\rIteration {i:6d}: Loss = {rounded_loss:12.4f}, Positive Balance Years = {pos_years:3d}, Premiums = {premiums_str}\")\n",
    "        \n",
    "# Plot the loss curve from gradient descent\n",
    "plt.plot([x[0] for x in losses])\n",
    "plt.xlabel(\"Iteration\")\n",
    "plt.ylabel(\"Loss\")\n",
    "plt.title(\"Loss Curve During Gradient Descent\")\n",
    "plt.show()\n",
    "plt.plot([x[1] for x in losses])\n",
    "plt.xlabel(\"Iteration\")\n",
    "plt.ylabel(\"Positive Balance Years\")\n",
    "plt.title(\"Positive Balance Years During Gradient Descent\")\n",
    "plt.show()"
   ]
  },
  {
   "cell_type": "code",
   "execution_count": 64,
   "id": "0335fd4a",
   "metadata": {},
   "outputs": [
    {
     "data": {
      "image/png": "[encoded data removed]",
      "text/plain": [
       "<Figure size 640x480 with 1 Axes>"
      ]
     },
     "metadata": {},
     "output_type": "display_data"
    },
    {
     "name": "stdout",
     "output_type": "stream",
     "text": [
      "[(-231035.0625, 20), (-231032.71875, 20), (-231031.609375, 20), (-231031.5625, 20), (-231032.46875, 20), (-231034.265625, 20), (-231036.84375, 20), (-231040.125, 20), (-231044.0625, 20), (-231048.546875, 20), (-231053.5625, 20), (-231059.0625, 20), (-231064.96875, 20), (-231013.78125, 19), (-231060.6875, 20), (-231052.109375, 20), (-231045.359375, 20), (-231040.234375, 20), (-231036.59375, 20), (-231034.265625, 20), (-231033.125, 20), (-231033.09375, 20), (-231034.015625, 20), (-231035.78125, 20), (-231038.390625, 20), (-231041.671875, 20), (-231045.578125, 20), (-231050.09375, 20), (-231055.09375, 20), (-231060.59375, 20), (-231066.515625, 20), (-231001.984375, 19), (-231062.21875, 20), (-231053.640625, 20), (-231046.890625, 20), (-231041.765625, 20), (-231038.125, 20), (-231035.8125, 20), (-231034.671875, 20), (-231034.625, 20), (-231035.53125, 20), (-231037.328125, 20), (-231039.90625, 20), (-231043.1875, 20), (-231047.109375, 20), (-231051.625, 20), (-231056.65625, 20), (-231062.140625, 20), (-231068.046875, 20), (-230988.609375, 19), (-231063.75, 20), (-231055.1875, 20), (-231048.4375, 20), (-231043.296875, 20), (-231039.671875, 20), (-231037.34375, 20), (-231036.203125, 20), (-231036.15625, 20), (-231037.078125, 20), (-231038.875, 20), (-231041.453125, 20), (-231044.75, 20), (-231048.65625, 20), (-231053.140625, 20), (-231058.15625, 20), (-231063.671875, 20), (-231069.5625, 20), (-230976.890625, 19), (-231065.265625, 20), (-231056.71875, 20), (-231049.9375, 20), (-231044.84375, 20), (-231041.1875, 20), (-231038.875, 20), (-231037.734375, 20), (-231037.6875, 20), (-231038.625, 20), (-231040.40625, 20), (-231042.96875, 20), (-231046.25, 20), (-231050.1875, 20), (-231054.6875, 20), (-231059.71875, 20), (-231065.203125, 20), (-231070.984375, 20), (-230999.765625, 19), (-231062.953125, 20), (-231052.75, 20), (-231044.515625, 20), (-231038.0625, 20), (-231033.21875, 20), (-231029.8125, 20), (-231027.71875, 20), (-231026.796875, 20), (-231026.9375, 20), (-231028.015625, 20), (-231029.953125, 20), (-231032.671875, 20), (-231036.0625, 20), (-231040.109375, 20), (-231044.6875, 20), (-231049.828125, 20), (-231055.375, 20), (-231061.34375, 20), (-231067.71875, 20), (-231029.734375, 19), (-231064.1875, 20), (-231055.921875, 20), (-231049.46875, 20), (-231044.59375, 20), (-231041.15625, 20), (-231039.046875, 20), (-231038.109375, 20), (-231038.21875, 20), (-231039.28125, 20), (-231041.21875, 20), (-231043.9375, 20), (-231047.3125, 20), (-231051.34375, 20), (-231055.9375, 20), (-231061.046875, 20), (-231066.59375, 20), (-231072.578125, 20), (-230968.5, 19), (-231068.078125, 20), (-231059.421875, 20), (-231052.5625, 20), (-231047.359375, 20), (-231043.640625, 20), (-231041.25, 20), (-231040.0625, 20), (-231039.953125, 20), (-231040.84375, 20), (-231042.59375, 20), (-231045.125, 20), (-231048.40625, 20), (-231052.28125, 20), (-231056.78125, 20), (-231061.765625, 20), (-231067.234375, 20), (-231073.109375, 20), (-230973.078125, 19), (-231068.765625, 20), (-231060.15625, 20), (-231053.40625, 20), (-231048.28125, 20), (-231044.5625, 20), (-231042.25, 20), (-231041.109375, 20), (-231041.03125, 20), (-231041.9375, 20), (-231043.75, 20), (-231046.3125, 20), (-231049.59375, 20), (-231053.5, 20), (-231057.984375, 20), (-231063.03125, 20), (-231068.5, 20), (-231073.015625, 20), (-231056.734375, 20), (-231041.75, 20), (-231029.25, 20), (-231018.90625, 20), (-231010.5625, 20), (-231004.0, 20), (-230999.046875, 20), (-230995.53125, 20), (-230993.34375, 20), (-230992.3125, 20), (-230992.3125, 20), (-230993.328125, 20), (-230995.1875, 20), (-230997.8125, 20), (-231001.140625, 20), (-231005.078125, 20), (-231009.578125, 20), (-231014.59375, 20), (-231020.109375, 20), (-231025.984375, 20), (-231032.28125, 20), (-231038.90625, 20), (-231045.8125, 20), (-231053.0, 20), (-231060.4375, 20), (-231068.09375, 20), (-231063.265625, 19), (-231066.828125, 20), (-231059.578125, 20), (-231053.984375, 20), (-231049.9375, 20), (-231047.25, 20), (-231045.78125, 20), (-231045.40625, 20), (-231046.046875, 20), (-231047.59375, 20), (-231049.921875, 20), (-231052.96875, 20), (-231056.71875, 20), (-231061.03125, 20), (-231065.875, 20), (-231071.203125, 20), (-231058.828125, 19), (-231065.984375, 20), (-231057.0625, 20), (-231049.96875, 20), (-231044.59375, 20), (-231040.640625, 20), (-231038.078125, 20), (-231036.71875, 20), (-231036.453125, 20), (-231037.1875, 20), (-231038.78125, 20), (-231041.15625, 20), (-231044.3125, 20), (-231048.09375, 20), (-231052.46875, 20), (-231057.34375, 20), (-231062.71875, 20), (-231068.515625, 20), (-231074.703125, 20), (-231000.515625, 19), (-231070.96875, 20), (-231062.625, 20), (-231056.125, 20), (-231051.171875, 20), (-231047.71875, 20), (-231045.53125, 20), (-231044.546875, 20), (-231044.625, 20), (-231045.625, 20), (-231047.515625, 20), (-231050.15625, 20), (-231053.5, 20), (-231057.46875, 20), (-231062.015625, 20), (-231067.0625, 20), (-231072.578125, 20), (-231059.90625, 19), (-231067.6875, 20), (-231058.875, 20), (-231051.921875, 20), (-231046.59375, 20), (-231042.765625, 20), (-231040.296875, 20), (-231039.015625, 20), (-231038.828125, 20), (-231039.625, 20), (-231041.28125, 20), (-231043.734375, 20), (-231046.9375, 20), (-231050.765625, 20), (-231055.15625, 20), (-231060.078125, 20), (-231065.484375, 20), (-231071.3125, 20), (-231077.46875, 20), (-230979.75, 19), (-231073.78125, 20), (-231065.46875, 20), (-231058.953125, 20), (-231054.0625, 20), (-231050.578125, 20), (-231048.40625, 20), (-231047.453125, 20), (-231047.53125, 20), (-231048.546875, 20), (-231050.421875, 20), (-231053.078125, 20), (-231056.4375, 20), (-231060.375, 20), (-231064.953125, 20), (-231070.015625, 20), (-231075.53125, 20), (-231036.0625, 19), (-231070.625, 20), (-231061.8125, 20), (-231054.859375, 20), (-231049.5625, 20), (-231045.75, 20), (-231043.25, 20), (-231041.96875, 20), (-231041.8125, 20), (-231042.578125, 20), (-231044.25, 20), (-231046.734375, 20), (-231049.90625, 20), (-231053.71875, 20), (-231058.125, 20), (-231063.046875, 20), (-231068.453125, 20), (-231074.28125, 20), (-231065.234375, 19), (-231069.90625, 20), (-231061.328125, 20), (-231054.5625, 20), (-231049.4375, 20), (-231045.796875, 20), (-231043.4375, 20), (-231042.296875, 20), (-231042.203125, 20), (-231043.109375, 20), (-231044.875, 20), (-231047.40625, 20), (-231050.671875, 20), (-231054.578125, 20), (-231059.03125, 20), (-231064.03125, 20), (-231069.46875, 20), (-231075.34375, 20), (-231059.515625, 19), (-231071.046875, 20), (-231062.515625, 20), (-231055.78125, 20), (-231050.6875, 20), (-231047.0625, 20), (-231044.71875, 20), (-231043.609375, 20), (-231043.546875, 20), (-231044.46875, 20), (-231046.25, 20), (-231048.828125, 20), (-231052.078125, 20), (-231056.0, 20), (-231060.46875, 20), (-231065.46875, 20), (-231070.90625, 20), (-231076.78125, 20), (-231047.65625, 19), (-231072.5, 20), (-231063.953125, 20), (-231057.25, 20), (-231052.15625, 20), (-231048.5, 20), (-231046.203125, 20), (-231045.078125, 20), (-231045.03125, 20), (-231045.9375, 20), (-231047.734375, 20), (-231050.28125, 20), (-231053.53125, 20), (-231057.453125, 20), (-231061.9375, 20), (-231066.9375, 20), (-231072.375, 20), (-231078.28125, 20), (-231036.71875, 19), (-231073.96875, 20), (-231065.4375, 20), (-231058.734375, 20), (-231053.625, 20), (-231050.0, 20), (-231047.671875, 20), (-231046.5625, 20), (-231046.515625, 20), (-231047.40625, 20), (-231049.21875, 20), (-231051.78125, 20), (-231055.046875, 20), (-231058.9375, 20), (-231063.421875, 20), (-231068.40625, 20), (-231073.875, 20), (-231079.75, 20), (-231024.734375, 19), (-231075.5, 20), (-231066.953125, 20), (-231060.203125, 20), (-231055.125, 20), (-231051.484375, 20), (-231049.171875, 20), (-231048.046875, 20), (-231048.0, 20), (-231048.921875, 20), (-231050.6875, 20), (-231053.25, 20), (-231056.53125, 20), (-231060.4375, 20), (-231064.921875, 20), (-231069.921875, 20), (-231075.375, 20), (-231081.25, 20), (-231012.265625, 19), (-231076.96875, 20), (-231068.421875, 20), (-231061.703125, 20), (-231056.625, 20), (-231053.0, 20), (-231050.671875, 20), (-231049.53125, 20), (-231049.5, 20), (-231050.40625, 20), (-231052.21875, 20), (-231054.75, 20), (-231058.03125, 20), (-231061.9375, 20), (-231066.40625, 20), (-231071.40625, 20), (-231076.859375, 20), (-231082.75, 20), (-231002.640625, 19), (-231078.46875, 20), (-231069.921875, 20), (-231063.21875, 20), (-231058.109375, 20), (-231054.46875, 20), (-231052.15625, 20), (-231051.03125, 20), (-231051.0, 20), (-231051.890625, 20), (-231053.6875, 20), (-231056.265625, 20), (-231059.515625, 20), (-231063.4375, 20), (-231067.921875, 20), (-231072.890625, 20), (-231078.375, 20), (-231084.25, 20), (-230989.5, 19), (-231079.953125, 20), (-231071.4375, 20), (-231064.71875, 20), (-231059.59375, 20), (-231055.96875, 20), (-231053.671875, 20), (-231052.53125, 20), (-231052.5, 20), (-231053.40625, 20), (-231055.1875, 20), (-231057.75, 20), (-231061.03125, 20), (-231064.9375, 20), (-231069.40625, 20), (-231074.40625, 20), (-231079.859375, 20), (-231084.578125, 20), (-231072.0, 20), (-231060.625, 20), (-231051.3125, 20), (-231043.84375, 20), (-231038.125, 20), (-231033.90625, 20), (-231031.0625, 20), (-231029.46875, 20), (-231028.96875, 20), (-231029.484375, 20), (-231030.90625, 20), (-231033.171875, 20), (-231036.15625, 20), (-231039.78125, 20), (-231044.03125, 20), (-231048.78125, 20), (-231054.046875, 20), (-231059.734375, 20), (-231065.84375, 20), (-231072.28125, 20), (-231079.0625, 20), (-231086.109375, 20), (-230969.125, 19), (-231083.8125, 20), (-231076.140625, 20), (-231070.203125, 20), (-231065.78125, 20), (-231062.78125, 20), (-231061.015625, 20), (-231060.40625, 20), (-231060.8125, 20), (-231062.125, 20), (-231064.28125, 20), (-231067.1875, 20), (-231070.75, 20), (-231074.90625, 20), (-231079.625, 20), (-231084.828125, 20), (-231031.515625, 19), (-231079.4375, 20), (-231070.421875, 20), (-231063.296875, 20), (-231057.8125, 20), (-231053.84375, 20), (-231051.21875, 20), (-231049.8125, 20), (-231049.5, 20), (-231050.1875, 20), (-231051.75, 20), (-231054.140625, 20), (-231057.21875, 20), (-231060.96875, 20), (-231065.3125, 20), (-231070.1875, 20), (-231075.515625, 20), (-231081.28125, 20), (-231087.4375, 20), (-230987.140625, 19), (-231083.65625, 20), (-231075.34375, 20), (-231068.8125, 20), (-231063.875, 20), (-231060.421875, 20), (-231058.21875, 20), (-231057.25, 20), (-231057.3125, 20), (-231058.328125, 20), (-231060.1875, 20), (-231062.84375, 20), (-231066.171875, 20), (-231070.140625, 20), (-231074.65625, 20), (-231079.71875, 20), (-231085.21875, 20), (-231046.578125, 19), (-231080.3125, 20), (-231071.53125, 20), (-231064.578125, 20), (-231059.28125, 20), (-231055.4375, 20), (-231052.96875, 20), (-231051.6875, 20), (-231051.5, 20), (-231052.28125, 20), (-231053.96875, 20), (-231056.40625, 20), (-231059.578125, 20), (-231063.40625, 20), (-231067.796875, 20), (-231072.734375, 20), (-231078.09375, 20), (-231083.921875, 20), (-231076.6875, 19), (-231079.53125, 20), (-231070.96875, 20), (-231064.234375, 20), (-231059.125, 20), (-231055.46875, 20), (-231053.125, 20), (-231051.96875, 20), (-231051.90625, 20), (-231052.78125, 20), (-231054.5625, 20), (-231057.09375, 20), (-231060.34375, 20), (-231064.25, 20), (-231068.6875, 20), (-231073.6875, 20), (-231079.140625, 20), (-231084.96875, 20), (-231071.171875, 19), (-231080.703125, 20), (-231072.171875, 20), (-231065.453125, 20), (-231060.34375, 20), (-231056.71875, 20), (-231054.40625, 20), (-231053.3125, 20), (-231053.25, 20), (-231054.15625, 20), (-231055.9375, 20), (-231058.5, 20), (-231061.75, 20), (-231065.65625, 20), (-231070.125, 20), (-231075.109375, 20), (-231080.5625, 20), (-231086.4375, 20), (-231060.140625, 19), (-231082.15625, 20), (-231073.640625, 20), (-231066.9375, 20), (-231061.828125, 20), (-231058.1875, 20), (-231055.890625, 20), (-231054.78125, 20), (-231054.71875, 20), (-231055.640625, 20), (-231057.40625, 20), (-231059.96875, 20), (-231063.25, 20), (-231067.125, 20), (-231071.609375, 20), (-231076.59375, 20), (-231082.0625, 20), (-231087.90625, 20), (-231048.125, 19), (-231083.640625, 20), (-231075.140625, 20), (-231068.453125, 20), (-231063.3125, 20), (-231059.6875, 20), (-231057.375, 20), (-231056.25, 20), (-231056.21875, 20), (-231057.140625, 20), (-231058.921875, 20), (-231061.46875, 20), (-231064.75, 20), (-231068.640625, 20), (-231073.125, 20), (-231078.09375, 20), (-231083.546875, 20), (-231089.421875, 20), (-231036.453125, 19), (-231085.15625, 20), (-231076.625, 20), (-231069.921875, 20), (-231064.8125, 20), (-231061.1875, 20), (-231058.875, 20), (-231057.765625, 20), (-231057.703125, 20), (-231058.640625, 20), (-231060.421875, 20), (-231062.984375, 20), (-231066.234375, 20), (-231070.140625, 20), (-231074.609375, 20), (-231079.59375, 20), (-231085.03125, 20), (-231090.9375, 20), (-231023.4375, 19), (-231086.625, 20), (-231078.140625, 20), (-231071.40625, 20), (-231066.3125, 20), (-231062.6875, 20), (-231060.390625, 20), (-231059.265625, 20), (-231059.21875, 20), (-231060.140625, 20), (-231061.90625, 20), (-231064.46875, 20), (-231067.75, 20), (-231071.625, 20), (-231076.09375, 20), (-231081.078125, 20), (-231086.53125, 20), (-231092.4375, 20), (-231011.65625, 19), (-231088.140625, 20), (-231079.625, 20), (-231072.90625, 20), (-231067.8125, 20), (-231064.1875, 20), (-231061.859375, 20), (-231060.75, 20), (-231060.703125, 20), (-231061.625, 20), (-231063.40625, 20), (-231065.96875, 20), (-231069.234375, 20), (-231073.140625, 20), (-231077.59375, 20), (-231082.578125, 20), (-231088.03125, 20), (-231093.90625, 20), (-230999.734375, 19), (-231089.609375, 20), (-231081.109375, 20), (-231074.390625, 20), (-231069.28125, 20), (-231065.671875, 20), (-231063.375, 20), (-231062.25, 20), (-231062.1875, 20), (-231063.109375, 20), (-231064.890625, 20), (-231067.4375, 20), (-231070.703125, 20), (-231074.609375, 20), (-231079.09375, 20), (-231084.0625, 20), (-231089.515625, 20), (-231095.21875, 20), (-231036.15625, 19), (-231085.703125, 20), (-231074.859375, 20), (-231066.0625, 20), (-231059.09375, 20), (-231053.8125, 20), (-231049.96875, 20), (-231047.46875, 20), (-231046.1875, 20), (-231046.0, 20), (-231046.78125, 20), (-231048.4375, 20), (-231050.921875, 20), (-231054.09375, 20), (-231057.921875, 20), (-231062.3125, 20), (-231067.25, 20), (-231072.640625, 20), (-231078.46875, 20), (-231084.671875, 20), (-231091.203125, 20), (-231064.125, 19), (-231088.0625, 20), (-231080.0, 20), (-231073.71875, 20), (-231069.0, 20), (-231065.734375, 20), (-231063.71875, 20), (-231062.859375, 20), (-231063.078125, 20), (-231064.21875, 20), (-231066.21875, 20), (-231068.96875, 20), (-231072.40625, 20), (-231076.46875, 20), (-231081.09375, 20), (-231086.21875, 20), (-231091.796875, 20), (-231082.609375, 19), (-231087.015625, 20), (-231078.25, 20), (-231071.328125, 20), (-231066.03125, 20), (-231062.25, 20), (-231059.765625, 20), (-231058.53125, 20), (-231058.34375, 20), (-231059.171875, 20), (-231060.84375, 20), (-231063.34375, 20), (-231066.53125, 20), (-231070.34375, 20), (-231074.765625, 20), (-231079.71875, 20), (-231085.109375, 20), (-231090.9375, 20), (-231097.1875, 20), (-230996.5625, 19), (-231093.46875, 20), (-231085.171875, 20), (-231078.640625, 20), (-231073.71875, 20), (-231070.265625, 20), (-231068.125, 20), (-231067.140625, 20), (-231067.21875, 20), (-231068.25, 20), (-231070.125, 20), (-231072.78125, 20), (-231076.140625, 20), (-231080.109375, 20), (-231084.65625, 20), (-231089.75, 20), (-231095.265625, 20), (-231051.421875, 19), (-231090.359375, 20), (-231081.546875, 20), (-231074.609375, 20), (-231069.28125, 20), (-231065.5, 20), (-231062.984375, 20), (-231061.703125, 20), (-231061.53125, 20), (-231062.296875, 20), (-231063.984375, 20), (-231066.453125, 20), (-231069.625, 20), (-231073.453125, 20), (-231077.84375, 20), (-231082.78125, 20), (-231088.1875, 20), (-231094.0, 20), (-231080.8125, 19), (-231089.640625, 20), (-231081.0625, 20), (-231074.3125, 20), (-231069.1875, 20), (-231065.53125, 20), (-231063.1875, 20), (-231062.03125, 20), (-231061.96875, 20), (-231062.84375, 20), (-231064.609375, 20), (-231067.140625, 20), (-231070.40625, 20), (-231074.3125, 20), (-231078.78125, 20), (-231083.75, 20), (-231089.21875, 20), (-231095.078125, 20), (-231075.234375, 19), (-231090.78125, 20), (-231082.25, 20), (-231075.53125, 20), (-231070.40625, 20), (-231066.78125, 20), (-231064.46875, 20), (-231063.359375, 20), (-231063.28125, 20), (-231064.21875, 20), (-231066.0, 20), (-231068.5625, 20), (-231071.8125, 20), (-231075.71875, 20), (-231080.203125, 20), (-231085.1875, 20), (-231090.65625, 20), (-231096.546875, 20), (-231064.765625, 19), (-231092.25, 20), (-231083.703125, 20), (-231076.96875, 20), (-231071.875, 20), (-231068.265625, 20), (-231065.9375, 20), (-231064.8125, 20), (-231064.75, 20), (-231065.703125, 20), (-231067.484375, 20), (-231070.03125, 20), (-231073.3125, 20), (-231077.21875, 20), (-231081.6875, 20), (-231086.6875, 20), (-231092.15625, 20), (-231098.03125, 20), (-231052.9375, 19), (-231093.71875, 20), (-231085.1875, 20), (-231078.5, 20), (-231073.375, 20), (-231069.75, 20), (-231067.4375, 20), (-231066.3125, 20), (-231066.265625, 20), (-231067.1875, 20), (-231068.96875, 20), (-231071.515625, 20), (-231074.8125, 20), (-231078.703125, 20), (-231083.1875, 20), (-231088.1875, 20), (-231093.640625, 20), (-231099.53125, 20), (-231039.71875, 19), (-231095.25, 20), (-231086.703125, 20), (-231079.96875, 20), (-231074.875, 20), (-231071.25, 20), (-231068.9375, 20), (-231067.8125, 20), (-231067.75, 20), (-231068.6875, 20), (-231070.46875, 20), (-231073.03125, 20), (-231076.296875, 20), (-231080.203125, 20), (-231084.6875, 20), (-231089.703125, 20), (-231095.15625, 20), (-231101.03125, 20), (-231027.90625, 19), (-231096.75, 20), (-231088.203125, 20), (-231081.484375, 20), (-231076.359375, 20), (-231072.734375, 20), (-231070.4375, 20), (-231069.3125, 20), (-231069.265625, 20), (-231070.1875, 20), (-231071.953125, 20), (-231074.53125, 20), (-231077.8125, 20), (-231081.71875, 20), (-231086.15625, 20), (-231091.1875, 20), (-231096.625, 20), (-231102.53125, 20), (-231017.03125, 19), (-231098.25, 20), (-231089.71875, 20), (-231082.96875, 20), (-231077.875, 20), (-231074.25, 20), (-231071.921875, 20), (-231070.8125, 20), (-231070.75, 20), (-231071.6875, 20), (-231073.46875, 20), (-231076.03125, 20), (-231079.3125, 20), (-231083.21875, 20), (-231087.6875, 20), (-231092.703125, 20), (-231098.15625, 20), (-231104.046875, 20), (-231004.703125, 19), (-231099.75, 20), (-231091.25, 20), (-231084.5, 20), (-231079.40625, 20), (-231075.75, 20), (-231073.4375, 20), (-231072.328125, 20), (-231072.265625, 20), (-231073.1875, 20), (-231074.984375, 20), (-231077.53125, 20), (-231080.828125, 20), (-231084.71875, 20), (-231089.203125, 20), (-231094.203125, 20), (-231099.6875, 20), (-231098.0, 19), (-231094.65625, 20), (-231085.828125, 20), (-231078.8125, 20), (-231073.484375, 20), (-231069.625, 20), (-231067.109375, 20), (-231065.8125, 20), (-231065.59375, 20), (-231066.34375, 20), (-231068.0, 20), (-231070.46875, 20), (-231073.625, 20), (-231077.46875, 20), (-231081.84375, 20), (-231086.765625, 20), (-231092.15625, 20), (-231097.96875, 20), (-231104.1875, 20), (-231023.375, 19), (-231100.4375, 20), (-231092.125, 20), (-231085.59375, 20), (-231080.6875, 20), (-231077.21875, 20), (-231075.0625, 20), (-231074.09375, 20), (-231074.171875, 20), (-231075.171875, 20), (-231077.0625, 20), (-231079.71875, 20), (-231083.0625, 20), (-231087.03125, 20), (-231091.59375, 20), (-231096.65625, 20), (-231102.171875, 20), (-231080.671875, 19), (-231097.265625, 20), (-231088.5, 20), (-231081.515625, 20), (-231076.21875, 20), (-231072.375, 20), (-231069.890625, 20), (-231068.609375, 20), (-231068.421875, 20), (-231069.21875, 20), (-231070.890625, 20), (-231073.359375, 20), (-231076.5, 20), (-231080.34375, 20), (-231084.75, 20), (-231089.671875, 20), (-231095.09375, 20), (-231100.90625, 20), (-231107.125, 20), (-230999.109375, 19), (-231103.390625, 20), (-231095.078125, 20), (-231088.578125, 20), (-231083.65625, 20), (-231080.203125, 20), (-231078.03125, 20), (-231077.046875, 20), (-231077.109375, 20), (-231078.15625, 20), (-231080.03125, 20), (-231082.6875, 20), (-231086.0625, 20), (-231090.015625, 20), (-231094.578125, 20), (-231099.625, 20), (-231105.140625, 20), (-231057.96875, 19), (-231100.25, 20), (-231091.4375, 20), (-231084.484375, 20), (-231079.171875, 20), (-231075.34375, 20), (-231072.875, 20), (-231071.5625, 20), (-231071.390625, 20), (-231072.1875, 20), (-231073.84375, 20), (-231076.3125, 20), (-231079.484375, 20), (-231083.3125, 20), (-231087.75, 20), (-231092.6875, 20), (-231098.046875, 20), (-231103.875, 20), (-231086.875, 19), (-231099.5, 20), (-231090.921875, 20), (-231084.171875, 20)]\n"
     ]
    }
   ],
   "source": [
    "plt.plot(losses[-1000:])\n",
    "plt.xlabel(\"Iteration\")\n",
    "plt.ylabel(\"Loss\")\n",
    "plt.title(\"Loss Curve During Gradient Descent\")\n",
    "plt.show()\n",
    "print(losses[-1000:])"
   ]
  },
  {
   "cell_type": "markdown",
   "id": "21680689",
   "metadata": {},
   "source": [
    "### Bug Fixing"
   ]
  },
  {
   "cell_type": "code",
   "execution_count": 75,
   "id": "ba88e6d8",
   "metadata": {},
   "outputs": [
    {
     "name": "stdout",
     "output_type": "stream",
     "text": [
      "Premium Cash Flow (BOY):\n",
      "  Year  1:    73,013.24\n",
      "  Year  2:    74,973.33\n",
      "  Year  3:    29,075.30\n",
      "  Year  4:    19,626.53\n",
      "  Year  5:    17,282.30\n",
      "  Year  6:    22,401.24\n",
      "  Year  7:     6,189.55\n",
      "  Year  8:    16,906.45\n",
      "  Year  9:         0.00\n",
      "  Year 10:         0.00\n",
      "  Year 11:         0.00\n",
      "  Year 12:     1,242.62\n",
      "  Year 13:         0.00\n",
      "  Year 14:    11,653.19\n",
      "  Year 15:    19,782.47\n",
      "  Year 16:    26,680.29\n",
      "  Year 17:    29,051.31\n",
      "  Year 18:    28,236.73\n",
      "  Year 19:    19,235.98\n",
      "  Year 20:    17,851.88\n",
      "Death Benefit Cash Flow (EOY):\n",
      "  Year  1:     4,015.44\n",
      "  Year  2:     6,578.76\n",
      "  Year  3:    11,534.73\n",
      "  Year  4:    16,960.98\n",
      "  Year  5:    21,560.29\n",
      "  Year  6:    26,953.85\n",
      "  Year  7:    34,295.43\n",
      "  Year  8:    42,909.61\n",
      "  Year  9:    52,944.15\n",
      "  Year 10:    64,549.81\n",
      "  Year 11:    76,946.47\n",
      "  Year 12:    81,089.32\n",
      "  Year 13:    77,702.01\n",
      "  Year 14:    72,620.62\n",
      "  Year 15:    66,116.54\n",
      "  Year 16:    59,381.65\n",
      "  Year 17:    52,949.74\n",
      "  Year 18:    46,433.15\n",
      "  Year 19:    39,976.13\n",
      "  Year 20:   144,481.22\n",
      "Expected Present Value for test: 231027.71875\n"
     ]
    }
   ],
   "source": [
    "premiums_test = torch.tensor([73013.24,   75275.59,   29386.63,   20070.67,   17985.35,   23847.60,    6783.84,   19253.43,      -8.15,      -7.85,    -856.59,    1939.32,      -7.64,   24178.80,   48327.90,   77734.80,  102350.94,  122294.88,  104284.18,  123558.51])\n",
    "premiums_test = torch.nn.ReLU()(premiums_test)\n",
    "# for i in premiums_test:\n",
    "#     print(f\"{i.item()}\")\n",
    "# print(f\"Loss for test: {smooth_loss(premiums_test, balance_activation_function=torch.nn.ELU(5.0)).item()}\")\n",
    "print(f\"Expected Present Value for test: {calculate_expected_present_value(premiums_test, change_death_benefit=False).item()}\")\n"
   ]
  }
 ],
 "metadata": {
  "kernelspec": {
   "display_name": "venv",
   "language": "python",
   "name": "python3"
  },
  "language_info": {
   "codemirror_mode": {
    "name": "ipython",
    "version": 3
   },
   "file_extension": ".py",
   "mimetype": "text/x-python",
   "name": "python",
   "nbconvert_exporter": "python",
   "pygments_lexer": "ipython3",
   "version": "3.13.3"
  }
 },
 "nbformat": 4,
 "nbformat_minor": 5
}
