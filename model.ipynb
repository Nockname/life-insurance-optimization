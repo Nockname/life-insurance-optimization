{
 "cells": [
  {
   "cell_type": "markdown",
   "id": "4cba20e0",
   "metadata": {},
   "source": [
    "## Gradient Descent for Life Insurance Premiums"
   ]
  },
  {
   "cell_type": "code",
   "execution_count": 2,
   "id": "d2743f9f",
   "metadata": {},
   "outputs": [],
   "source": [
    "import numpy as np\n",
    "import torch\n",
    "import matplotlib.pyplot as plt"
   ]
  },
  {
   "cell_type": "markdown",
   "id": "ce03e3e1",
   "metadata": {},
   "source": [
    "### Constants"
   ]
  },
  {
   "cell_type": "code",
   "execution_count": 3,
   "id": "46f76c87",
   "metadata": {},
   "outputs": [],
   "source": [
    "YEARS = 20\n",
    "\n",
    "# discount rate\n",
    "DISCOUNT = torch.full((YEARS,), 0.05)\n",
    "\n",
    "# policy values\n",
    "INITIAL_BALANCE = 209000.0 \n",
    "DEATH_BENEFIT = 1000000.0\n",
    "COI = torch.tensor([\n",
    "    25.3835,\n",
    "    28.7676,\n",
    "    32.2841,\n",
    "    36.1080,\n",
    "    40.0561,\n",
    "    44.9284,\n",
    "    49.7497,\n",
    "    56.7585,\n",
    "    65.8140,\n",
    "    75.9054,\n",
    "    86.8502,\n",
    "    98.5907,\n",
    "    110.7127,\n",
    "    123.0529,\n",
    "    134.7429,\n",
    "    155.6109,\n",
    "    175.6953,\n",
    "    198.0022,\n",
    "    222.6517,\n",
    "    249.7688\n",
    "])\n",
    "INTEREST_RATE = torch.full((YEARS,), 0.0564)\n",
    "\n",
    "# mortality statistics\n",
    "BASE_MORTALITY = torch.tensor([0.004056, 0.006672, 0.011776, 0.017520, 0.022664, 0.028984, 0.037968, 0.049360, 0.064032, 0.083352, 0.108296, 0.127832, 0.140240, 0.152200, 0.163152, 0.174760, 0.188432, 0.203136, 0.218912, 0.235448])\n",
    "ANNUAL_IMPROVEMENT_FACTOR = torch.full((YEARS,), 0.01)\n",
    "SHOCK_FACTOR = torch.zeros((YEARS,))\n",
    "\n"
   ]
  },
  {
   "cell_type": "markdown",
   "id": "9490ebe6",
   "metadata": {},
   "source": [
    "### Input"
   ]
  },
  {
   "cell_type": "code",
   "execution_count": 4,
   "id": "413dc83b",
   "metadata": {},
   "outputs": [
    {
     "data": {
      "text/plain": [
       "tensor([20000., 20000., 20000., 20000., 20000., 20000., 20000., 20000., 20000.,\n",
       "        20000., 20000., 20000., 20000., 20000., 20000., 20000., 20000., 20000.,\n",
       "        20000., 20000.], requires_grad=True)"
      ]
     },
     "execution_count": 4,
     "metadata": {},
     "output_type": "execute_result"
    }
   ],
   "source": [
    "premiums = torch.full((20,), 20000.0)\n",
    "# premiums = torch.full((20,), 35000.0)\n",
    "\n",
    "premiums.requires_grad_()"
   ]
  },
  {
   "cell_type": "markdown",
   "id": "548aaa6d",
   "metadata": {},
   "source": [
    "### Compute Policy Premiums\n",
    "\n",
    "Find ending balance and effect on death rate, given premiums schedule."
   ]
  },
  {
   "cell_type": "code",
   "execution_count": 5,
   "id": "d969fcbd",
   "metadata": {},
   "outputs": [
    {
     "name": "stdout",
     "output_type": "stream",
     "text": [
      "tensor([  209000.0000,   220645.3750,   230543.2031,   238513.9062,\n",
      "          244208.5000,   247370.3750,   247070.6094,   243003.9688,\n",
      "          233033.3750,   214751.6719,   186003.9844,   144143.1406,\n",
      "           85707.0078,     6429.8037,   -99289.4766,  -238049.3906,\n",
      "         -431250.7500,  -697062.9375, -1066735.8750, -1587893.3750,\n",
      "        -2334602.5000], grad_fn=<CopySlices>)\n"
     ]
    }
   ],
   "source": [
    "def calculate_balance(premiums):\n",
    "    balance_boy = torch.zeros((YEARS + 1,))\n",
    "    balance_boy[0] = INITIAL_BALANCE\n",
    "    PERCENT_PREMIUM_CHARGE = torch.full((YEARS,), 0.02)\n",
    "    POLICY_FEE = torch.full((YEARS,), 150.0)\n",
    "    for i in range(YEARS):\n",
    "        premium_charge = -premiums[i] * PERCENT_PREMIUM_CHARGE[i]\n",
    "        net_at_risk = DEATH_BENEFIT - premiums[i] - balance_boy[i] - premium_charge + POLICY_FEE[i]\n",
    "        cost_of_insurance = - COI[i] * net_at_risk / 1000\n",
    "        partial_sum = balance_boy[i] + premiums[i] + premium_charge - POLICY_FEE[i] + cost_of_insurance\n",
    "        balance_boy[i+1] = (partial_sum) * (1 + INTEREST_RATE[i])\n",
    "        \n",
    "    return balance_boy\n",
    "        \n",
    "print(calculate_balance(premiums))\n",
    "    "
   ]
  },
  {
   "cell_type": "markdown",
   "id": "504a2774",
   "metadata": {},
   "source": [
    "### Compute Expected Present Value"
   ]
  },
  {
   "cell_type": "code",
   "execution_count": 6,
   "id": "76fb43cb",
   "metadata": {},
   "outputs": [
    {
     "name": "stdout",
     "output_type": "stream",
     "text": [
      "(tensor([1.0000, 0.9524, 0.9070, 0.8638, 0.8227, 0.7835, 0.7462, 0.7107, 0.6768,\n",
      "        0.6446, 0.6139, 0.5847, 0.5568, 0.5303, 0.5051, 0.4810, 0.4581, 0.4363,\n",
      "        0.4155, 0.3957, 0.3769]), tensor([0.9524, 0.9070, 0.8638, 0.8227, 0.7835, 0.7462, 0.7107, 0.6768, 0.6446,\n",
      "        0.6139, 0.5847, 0.5568, 0.5303, 0.5051, 0.4810, 0.4581, 0.4363, 0.4155,\n",
      "        0.3957, 0.3769]))\n"
     ]
    }
   ],
   "source": [
    "# get boy and eoy discount factors\n",
    "def discount_factors():\n",
    "    \n",
    "    discount_boy = torch.empty((YEARS+1,))\n",
    "    discount_boy[0] = 1\n",
    "    for i in range(1, YEARS + 1):\n",
    "        discount_boy[i] = discount_boy[i-1] / (1 + DISCOUNT[i-1])\n",
    "        \n",
    "    return discount_boy, discount_boy[1:]\n",
    "\n",
    "print(discount_factors())"
   ]
  },
  {
   "cell_type": "code",
   "execution_count": 7,
   "id": "3c17cd8a",
   "metadata": {},
   "outputs": [
    {
     "name": "stdout",
     "output_type": "stream",
     "text": [
      "[tensor(4000.0081), tensor(6500.0059), tensor(11299.9678), tensor(16499.9961), tensor(20700.0371), tensor(25699.9727), tensor(32400.0117), tensor(40199.9961), tensor(49300.0156), tensor(59799.9688), tensor(71100.), tensor(75100.0078), tensor(72300.0156), tensor(68100.0078), tensor(62700.0039), tensor(57199.9844), tensor(52000.0156), tensor(46600.), tensor(41300.), tensor(187200.)]\n",
      "[tensor(4015.4402), tensor(6578.7568), tensor(11534.7305), tensor(16960.9766), tensor(21560.2852), tensor(26953.8535), tensor(34295.4297), tensor(42909.6055), tensor(52944.1523), tensor(64549.8125), tensor(76946.4688), tensor(81089.3203), tensor(77702.0078), tensor(72620.6250), tensor(66116.5391), tensor(59381.6484), tensor(52949.7383), tensor(46433.1523), tensor(39976.1328), tensor(144481.2188)]\n"
     ]
    }
   ],
   "source": [
    "# get probability of boy survival and eoy death \n",
    "def actuarial_factors():\n",
    "    cumulative_improvement_factor = 1 - ANNUAL_IMPROVEMENT_FACTOR\n",
    "    adj_rate_one = BASE_MORTALITY * cumulative_improvement_factor\n",
    "    adj_rate_two = adj_rate_one * (1 + SHOCK_FACTOR)\n",
    "\n",
    "    survivors_boy = torch.zeros((YEARS + 1,))\n",
    "    deaths_eoy = torch.zeros((YEARS,))\n",
    "    survivors_boy[0] = 1.0  # Start with 100% at BOY\n",
    "\n",
    "    # iteratively find death and survival rates based on previous year results\n",
    "    for i in range(YEARS):\n",
    "        deaths_eoy[i] = survivors_boy[i] * adj_rate_two[i]\n",
    "        survivors_boy[i + 1] = survivors_boy[i] - deaths_eoy[i]\n",
    "\n",
    "    # we assume all remaining living people die on the last year / collect on the policy\n",
    "    deaths_eoy[YEARS - 1] = survivors_boy[YEARS - 1]\n",
    "    return survivors_boy[:-1], deaths_eoy\n",
    "\n",
    "# inaccurate way that Excel calculates, with too low precision\n",
    "def excel_actuarial_factors():\n",
    "    MORTALITY = torch.tensor([1.0000, 0.9960, 0.9895, 0.9782, 0.9617, 0.9410, 0.9153, 0.8829, 0.8427, 0.7934, 0.7336, 0.6625, 0.5874, 0.5151, 0.4470, 0.3843, 0.3271, 0.2751, 0.2285, 0.1872, 0.0])\n",
    "    survival_boy = MORTALITY[:-1]\n",
    "    death_eoy = MORTALITY[:-1] - MORTALITY[1:]\n",
    "    return survival_boy, death_eoy\n",
    "\n",
    "print([i*1000000 for i in excel_actuarial_factors()[1]])\n",
    "print([i*1000000 for i in actuarial_factors()[1]])"
   ]
  },
  {
   "cell_type": "code",
   "execution_count": 8,
   "id": "056b8618",
   "metadata": {},
   "outputs": [
    {
     "name": "stdout",
     "output_type": "stream",
     "text": [
      "110908.765625\n",
      "13\n"
     ]
    }
   ],
   "source": [
    "def positive_balance_years(premiums):\n",
    "\n",
    "    balance_eoy = calculate_balance(torch.nn.ReLU()(premiums))[1:]\n",
    "    negative_balance_years = torch.where(balance_eoy < 0)[0]\n",
    "    \n",
    "    if len(negative_balance_years) > 0:\n",
    "        return negative_balance_years[0].item()\n",
    "    \n",
    "    return YEARS\n",
    "\n",
    "# find net expected present value of insurance policy\n",
    "# use_excel_rounding rounds the actuarial factors to 4 sig figs after each calculation. set True to test against Excel spreadsheet, keep False for higher accuracy\n",
    "def calculate_expected_present_value(premiums, use_excel_rounding = False, change_death_benefit = False, print_output = False):\n",
    "    \n",
    "    death_benefit = torch.full((YEARS,), DEATH_BENEFIT)\n",
    "        \n",
    "    # set death benefit to 0 if the policy has ever been in a negative balance\n",
    "    if change_death_benefit:\n",
    "        death_benefit[positive_balance_years(premiums):] = 0\n",
    "    \n",
    "    discount_boy, discount_eoy = discount_factors()\n",
    "    survival_boy, death_eoy = excel_actuarial_factors() if use_excel_rounding else actuarial_factors()\n",
    "    \n",
    "    premium_cash_flow_boy = premiums * survival_boy\n",
    "    death_benefit_cash_flow_eoy = death_benefit * death_eoy\n",
    "    \n",
    "    if print_output:\n",
    "        print(\"Premium Cash Flow (BOY):\")\n",
    "        for idx, val in enumerate(premium_cash_flow_boy):\n",
    "            print(f\"  Year {idx+1:2d}: {val:12,.2f}\")\n",
    "        print(\"Death Benefit Cash Flow (EOY):\")\n",
    "        for idx, val in enumerate(death_benefit_cash_flow_eoy):\n",
    "            print(f\"  Year {idx+1:2d}: {val:12,.2f}\")\n",
    "        \n",
    "    # compute net cash flow via offsetting death_benefit_cash_flow_eoy and premium_cash_flow_boy\n",
    "    net_cash_flow_boy = (\n",
    "        torch.cat((torch.tensor([0.0]), death_benefit_cash_flow_eoy)) - \n",
    "        torch.cat((premium_cash_flow_boy, torch.tensor([0.0]))))\n",
    "    \n",
    "    return torch.sum(discount_boy * net_cash_flow_boy)\n",
    "\n",
    "print(calculate_expected_present_value(premiums, use_excel_rounding=True, change_death_benefit=True).item())\n",
    "print(positive_balance_years(premiums))"
   ]
  },
  {
   "cell_type": "markdown",
   "id": "0238603d",
   "metadata": {},
   "source": [
    "### Loss Function"
   ]
  },
  {
   "cell_type": "code",
   "execution_count": 9,
   "id": "93b6d654",
   "metadata": {},
   "outputs": [
    {
     "name": "stdout",
     "output_type": "stream",
     "text": [
      "Expiration Loss:        2199576.2500\n",
      "Piecewise Loss:         2334602.5000\n",
      "Smooth Loss:            1991222.0000\n"
     ]
    }
   ],
   "source": [
    "def piecewise_loss(premiums):\n",
    "\n",
    "    balance_boy = calculate_balance(premiums)\n",
    "    expected_present_value = calculate_expected_present_value(premiums) \n",
    "    \n",
    "    if balance_boy[-1] < -1:\n",
    "        return -balance_boy[-1]\n",
    "    \n",
    "    return -expected_present_value\n",
    "\n",
    "# loss is expected present value (where policy expires if ever in negative balance) + negative balance at the end of the policy\n",
    "def expiration_loss(premiums):\n",
    "    \n",
    "    balance_boy = calculate_balance(premiums)\n",
    "    expected_present_value = calculate_expected_present_value(premiums, change_death_benefit=True) \n",
    "    return -(expected_present_value + torch.min(balance_boy[-1], torch.tensor(0.0)))\n",
    "\n",
    "# loss is expected present value of policy (through completion of the policy) + (weighted) negative balance at the end of the policy\n",
    "def smooth_loss(premiums, balance_activation_function=torch.nn.ReLU()):\n",
    "\n",
    "    balance_boy = calculate_balance(torch.nn.ReLU()(premiums))\n",
    "    expected_present_value = calculate_expected_present_value(torch.nn.ReLU()(premiums)) \n",
    "\n",
    "    return -expected_present_value + balance_activation_function(-balance_boy[-1])\n",
    "\n",
    "print(f\"{'Expiration Loss:':20s} {round(expiration_loss(premiums).item(), 4):15.4f}\")\n",
    "print(f\"{'Piecewise Loss:':20s} {round(piecewise_loss(premiums).item(), 4):15.4f}\")\n",
    "print(f\"{'Smooth Loss:':20s} {round(smooth_loss(premiums).item(), 4):15.4f}\")"
   ]
  },
  {
   "cell_type": "markdown",
   "id": "f9d2dcf0",
   "metadata": {},
   "source": [
    "### Gradient Descent"
   ]
  },
  {
   "cell_type": "code",
   "execution_count": null,
   "id": "9badd9b1",
   "metadata": {},
   "outputs": [],
   "source": [
    "\n",
    "\n",
    "\n",
    "# Set the random seed for reproducibility\n",
    "torch.manual_seed(0)\n",
    "\n",
    "premiums_input = torch.rand((20,)) * 50000.0\n",
    "premiums_input = torch.tensor([  64325.35,   69509.91,   26700.43,   20355.28,   21075.45,   29642.84,   15130.02,   29626.19,    3549.79,   10798.93,    0,   10395.28,    3672.41,   23879.62,   43402.56,   68104.01,   88680.91,  104796.06,   83182.37,   99041.80])\n",
    "\n",
    "premiums_input.requires_grad_()\n",
    "\n",
    "optimizer = torch.optim.Adam([premiums_input], lr=2)\n",
    "n_iters = 500000\n",
    "losses = []\n",
    "for i in range(n_iters):\n",
    "    optimizer.zero_grad()\n",
    "    loss_value = smooth_loss(premiums_input, balance_activation_function=torch.nn.ELU(5.0))\n",
    "    losses.append((loss_value.item(), positive_balance_years(premiums_input)))\n",
    "\n",
    "    loss_value.backward()\n",
    "    optimizer.step()\n",
    "    progress = int(50 * (i + 1) / n_iters)\n",
    "    bar = '[' + '#' * progress + '-' * (50 - progress) + ']'\n",
    "    print(f\"\\rProgress: {bar} {100 * (i + 1) / n_iters:.2f}%\", end='', flush=True)\n",
    "    if i % (n_iters / 100) == 0:\n",
    "        rounded_loss = round(loss_value.item(), 4)\n",
    "        pos_years = positive_balance_years(premiums_input)\n",
    "        rounded_premiums = [round(float(p), 2) for p in premiums_input.tolist()]\n",
    "        # Format: Loss (12 chars, right), Years (3 chars, right), Premiums (each 10 chars, right)\n",
    "        premiums_str = \"[\" + \", \".join(f\"{p:10.2f}\" for p in rounded_premiums) + \"]\"\n",
    "        print(f\"\\rIteration {i:6d}: Loss = {rounded_loss:12.4f}, Positive Balance Years = {pos_years:3d}, Premiums = {premiums_str}\")\n",
    "        \n",
    "# Plot the loss curve from gradient descent\n",
    "plt.plot([x[0] for x in losses])\n",
    "plt.xlabel(\"Iteration\")\n",
    "plt.ylabel(\"Loss\")\n",
    "plt.title(\"Loss Curve During Gradient Descent\")\n",
    "plt.show()\n",
    "plt.plot([x[1] for x in losses])\n",
    "plt.xlabel(\"Iteration\")\n",
    "plt.ylabel(\"Positive Balance Years\")\n",
    "plt.title(\"Positive Balance Years During Gradient Descent\")\n",
    "plt.show()"
   ]
  },
  {
   "cell_type": "code",
   "execution_count": null,
   "id": "0335fd4a",
   "metadata": {},
   "outputs": [],
   "source": [
    "plt.plot(losses[-1000:])\n",
    "plt.xlabel(\"Iteration\")\n",
    "plt.ylabel(\"Loss\")\n",
    "plt.title(\"Loss Curve During Gradient Descent\")\n",
    "plt.show()\n",
    "print(losses[-1000:])"
   ]
  }
 ],
 "metadata": {
  "kernelspec": {
   "display_name": "venv",
   "language": "python",
   "name": "python3"
  },
  "language_info": {
   "codemirror_mode": {
    "name": "ipython",
    "version": 3
   },
   "file_extension": ".py",
   "mimetype": "text/x-python",
   "name": "python",
   "nbconvert_exporter": "python",
   "pygments_lexer": "ipython3",
   "version": "3.13.3"
  }
 },
 "nbformat": 4,
 "nbformat_minor": 5
}
